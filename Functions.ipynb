{
  "nbformat": 4,
  "nbformat_minor": 0,
  "metadata": {
    "colab": {
      "provenance": []
    },
    "kernelspec": {
      "name": "python3",
      "display_name": "Python 3"
    },
    "language_info": {
      "name": "python"
    }
  },
  "cells": [
    {
      "cell_type": "markdown",
      "source": [
        "#Functions\n"
      ],
      "metadata": {
        "id": "b8tTvYnM08wT"
      }
    },
    {
      "cell_type": "markdown",
      "source": [
        "##Theoritical Questions\n",
        "\n",
        "1)  What is the difference between a function and a method in Python?\n",
        "- A function in Python is an independent block of reusable code defined using the def keyword, which can be called directly without being associated with a class. For example, a function like def add(a, b): return a + b can be used anywhere by calling add(2, 3). On the other hand, a method is a function that is defined inside a class and is called using an object of that class. Methods typically operate on instance attributes and use self as their first parameter to access instance variables. For example, in a class Math, a method def add(self, a, b): return a + b is called using an instance like obj.add(2, 3). The key difference is that functions are independent, whereas methods are associated with objects and often modify their attributes.\n",
        "\n",
        "2) Explain the concept of function arguments and parameters in Python.\n",
        "- In Python, parameters are the variables listed in a function definition, while arguments are the actual values passed to the function when calling it. For example, in def greet(name):, name is a parameter, and in greet(\"Alice\"), \"Alice\" is an argument. Python supports different types of arguments, including positional arguments, keyword arguments, default arguments, and variable-length arguments (*args, **kwargs). Parameters define what inputs a function can accept, while arguments provide the actual data for execution.\n",
        "\n",
        "3) What are the different ways to define and call a function in Python?\n",
        "- In Python, functions can be defined and called in multiple ways. The most common method is using the def keyword, where a function is defined and called by passing required arguments, such as def greet(name): return f\"Hello, {name}!\" and calling it with greet(\"Alice\"). Functions can also have default arguments, where parameters are assigned default values if not provided, like def greet(name=\"Guest\"), allowing calls like greet() or greet(\"Bob\"). Python supports variable-length arguments using *args for multiple positional arguments and **kwargs for keyword arguments, enabling flexible function calls like add(1, 2, 3, 4). Additionally, lambda functions allow defining single-expression functions concisely, such as square = lambda x: x * x, which can be called with square(5). Functions can also be methods inside classes, requiring an instance to call them, like class Math: def add(self, a, b): return a + b, which is then accessed as obj.add(3, 4). These various approaches provide flexibility in defining and calling functions in Python.\n",
        "\n",
        "4) What is the purpose of the `return` statement in a Python function?\n",
        "- The return statement in a Python function is used to send a result or value back to the caller and terminate the function's execution. It allows functions to process data and provide an output that can be stored in a variable or used in further calculations. For example, in def add(a, b): return a + b, calling add(3, 5) returns 8, which can be assigned to a variable (result = add(3, 5)). If a function has no return statement, it implicitly returns None. Additionally, return can be used without a value to exit a function early.\n",
        "\n",
        "5) What are iterators in Python and how do they differ from iterables?\n",
        "- In Python, an iterator is an object that represents a stream of data and can be traversed one element at a time using the next() function. An iterable, on the other hand, is any object that can return an iterator using the iter() function, such as lists, tuples, and strings. The key difference is that iterables contain data that can be iterated over, while iterators provide a way to access those elements sequentially without storing them in memory. Iterators implement the __iter__() and __next__() methods, allowing elements to be retrieved one by one, making them useful for handling large data efficiently.\n",
        "\n",
        "6) Explain the concept of generators in Python and how they are defined.\n",
        "- Generators in Python are a special type of iterator that generate values on demand rather than storing them in memory. They are defined using functions with the yield keyword, which allows them to pause execution and resume from where they left off. Unlike regular functions that return a single value and terminate, generators produce multiple values over time, making them memory-efficient. They can also be created using generator expressions, which are similar to list comprehensions but use parentheses () instead of square brackets [].\n",
        "\n",
        "7) What are the advantages of using generators over regular functions?\n",
        "- Generators offer several advantages over regular functions:\n",
        "\n",
        "  Memory Efficiency – Generators produce values one at a time, avoiding the need to store large data sets in memory. This is useful for handling big data efficiently.\n",
        "\n",
        "  Faster Execution – Since generators generate values on demand using lazy evaluation, they execute faster than functions that return entire lists at once.\n",
        "\n",
        "  State Retention – Unlike regular functions, generators remember their state between calls, allowing them to resume execution from where they left off.\n",
        "\n",
        "  Simpler Code for Iteration – Generators make it easier to write and read iterators, removing the need for complex class-based iterator implementations.\n",
        "\n",
        "  Useful for Streaming Data – Generators are ideal for reading large files line by line or handling infinite sequences, as they process data incrementally.\n",
        "\n",
        "8) What is a lambda function in Python and when is it typically used?  \n",
        "- A lambda function in Python is an anonymous, single-expression function defined using the lambda keyword. It is typically used for short, simple operations where defining a full function with def is unnecessary. Common use cases include working with functions like map(), filter(), and sorted() to perform quick transformations. Lambda functions are useful for inline operations, improving code readability and reducing the need for temporary function definitions.\n",
        "\n",
        "9) Explain the purpose and usage of the `map()` function in Python.\n",
        "- The map() function in Python applies a given function to all elements of an iterable (like a list or tuple) and returns a map object (iterator). It is useful for transforming data efficiently without using explicit loops. For example, map(lambda x: x * 2, [1, 2, 3]) returns [2, 4, 6]. It is commonly used for operations like modifying lists, data conversion, and applying functions to multiple values.\n",
        "\n",
        "10)  What is the difference between `map()`, `reduce()`, and `filter()` functions in Python?\n",
        "- The map() function applies a given function to each element of an iterable and returns a transformed iterable. The filter() function selects elements from an iterable based on a condition and returns only those that satisfy it. The reduce() function (from functools module) reduces an iterable to a single value by applying a function cumulatively (e.g., summing a list). While map() and filter() return iterators, reduce() returns a single computed result.\n",
        "\n",
        "11)  Using pen & Paper write the internal mechanism for sum operation using  reduce function on this given\n",
        "list:[47,11,42,13]\n",
        "- Image in doc"
      ],
      "metadata": {
        "id": "dd7UQ1OA1D3h"
      }
    },
    {
      "cell_type": "markdown",
      "source": [
        "##Practical Questions"
      ],
      "metadata": {
        "id": "BRPc-MQiRGmt"
      }
    },
    {
      "cell_type": "code",
      "source": [
        "#1) Write a Python function that takes a list of numbers as input and returns the sum of all even numbers in the list."
      ],
      "metadata": {
        "id": "pinEWckQMV84"
      },
      "execution_count": null,
      "outputs": []
    },
    {
      "cell_type": "code",
      "source": [
        "def sum_even_numbers(numbers):\n",
        "    even_numbers = []\n",
        "    for num in numbers:\n",
        "        if num % 2 == 0:\n",
        "            even_numbers.append(num)\n",
        "    return sum(even_numbers)\n",
        "\n",
        "numbers = [1,2,3,4,5,6,7,8,9,10]\n",
        "print(sum_even_numbers(numbers))"
      ],
      "metadata": {
        "colab": {
          "base_uri": "https://localhost:8080/"
        },
        "id": "6ynzG9WjTtcG",
        "outputId": "df00b345-905e-4b2e-f755-9324a2afc4cf"
      },
      "execution_count": null,
      "outputs": [
        {
          "output_type": "stream",
          "name": "stdout",
          "text": [
            "30\n"
          ]
        }
      ]
    },
    {
      "cell_type": "code",
      "source": [
        "#2) Create a Python function that accepts a string and returns the reverse of that string."
      ],
      "metadata": {
        "id": "mvm4kEDlVwTJ"
      },
      "execution_count": null,
      "outputs": []
    },
    {
      "cell_type": "code",
      "source": [
        "def reverse_string(string):\n",
        "    return string [::-1]\n",
        "\n",
        "string = \"MANGO\"\n",
        "print(reverse_string(string))"
      ],
      "metadata": {
        "colab": {
          "base_uri": "https://localhost:8080/"
        },
        "id": "_xPXfE7iW7hl",
        "outputId": "45c62afc-70cf-44a2-fafd-a0bd66fb19bc"
      },
      "execution_count": null,
      "outputs": [
        {
          "output_type": "stream",
          "name": "stdout",
          "text": [
            "OGNAM\n"
          ]
        }
      ]
    },
    {
      "cell_type": "code",
      "source": [
        "#3) Implement a Python function that takes a list of integers and returns a new list containing the squares of each number."
      ],
      "metadata": {
        "id": "6BtaUSn8YwDn"
      },
      "execution_count": null,
      "outputs": []
    },
    {
      "cell_type": "code",
      "source": [
        "def squares_list(integers):\n",
        "  return map(lambda x: x**2, integers)\n",
        "\n",
        "integers = [1,2,3,4,5,6,7,8,9,10]\n",
        "print(list(squares_list(integers)))"
      ],
      "metadata": {
        "colab": {
          "base_uri": "https://localhost:8080/"
        },
        "id": "FEHVOjkxZgGF",
        "outputId": "a007d397-81b4-492d-e79d-2e285b9fa9b8"
      },
      "execution_count": null,
      "outputs": [
        {
          "output_type": "stream",
          "name": "stdout",
          "text": [
            "[1, 4, 9, 16, 25, 36, 49, 64, 81, 100]\n"
          ]
        }
      ]
    },
    {
      "cell_type": "code",
      "source": [
        "#4) Write a Python function that checks if a given number is prime or not from 1 to 200."
      ],
      "metadata": {
        "id": "aAVqhDbzZmwr"
      },
      "execution_count": null,
      "outputs": []
    },
    {
      "cell_type": "code",
      "source": [
        "def is_prime(n):\n",
        "  n = int(n)\n",
        "  if n < 2:\n",
        "    return False\n",
        "  for i in range(2, int(n**0.5) + 1):\n",
        "    if n % i == 0:\n",
        "      return False\n",
        "  return True\n",
        "\n",
        "print(\"Prime numbers from 1 to 200:\")\n",
        "for num in range(1, 201):\n",
        "  if is_prime(num):\n",
        "    print(num, end= \" \")"
      ],
      "metadata": {
        "colab": {
          "base_uri": "https://localhost:8080/"
        },
        "id": "_cNJQbvoaL30",
        "outputId": "6187ca3a-8787-4a55-f896-bb7f838f772a"
      },
      "execution_count": null,
      "outputs": [
        {
          "output_type": "stream",
          "name": "stdout",
          "text": [
            "Prime numbers from 1 to 200:\n",
            "2 3 5 7 11 13 17 19 23 29 31 37 41 43 47 53 59 61 67 71 73 79 83 89 97 101 103 107 109 113 127 131 137 139 149 151 157 163 167 173 179 181 191 193 197 199 "
          ]
        }
      ]
    },
    {
      "cell_type": "code",
      "source": [
        "#5)  Create an iterator class in Python that generates the Fibonacci sequence up to a specified number of terms."
      ],
      "metadata": {
        "id": "0pJbjkUhdQHp"
      },
      "execution_count": null,
      "outputs": []
    },
    {
      "cell_type": "code",
      "source": [
        "class FibonacciIterator:\n",
        "  def __init__(self, n_term):\n",
        "    self.n_term = n_term\n",
        "    self.a, self.b = 0, 1\n",
        "    self.count = 0\n",
        "\n",
        "\n",
        "  def __iter__(self):\n",
        "    return self\n",
        "\n",
        "\n",
        "  def __next__(self):\n",
        "    if self.count >= self.n_term:\n",
        "      raise StopIteration\n",
        "\n",
        "    fib_number = self.a\n",
        "    self.a, self.b = self.b, self.a + self.b\n",
        "    self.count += 1\n",
        "\n",
        "    return fib_number\n",
        "\n",
        "n_term = int(input(\"Enter the number of fibonacci term: \"))\n",
        "fib_iterator = FibonacciIterator(n_term)\n",
        "\n",
        "print(\"Fibonacci sequence:\")\n",
        "for num in fib_iterator:\n",
        "  print(num, end=\" \")\n"
      ],
      "metadata": {
        "colab": {
          "base_uri": "https://localhost:8080/"
        },
        "id": "ZnAuhT-mTfb3",
        "outputId": "a10fc6e2-08d3-44ee-f8c8-edc347404c7a"
      },
      "execution_count": null,
      "outputs": [
        {
          "output_type": "stream",
          "name": "stdout",
          "text": [
            "Enter the number of fibonacci term: 10\n",
            "Fibonacci sequence:\n",
            "0 1 1 2 3 5 8 13 21 34 "
          ]
        }
      ]
    },
    {
      "cell_type": "code",
      "source": [
        "#6) Write a generator function in Python that yields the powers of 2 up to a given exponent."
      ],
      "metadata": {
        "id": "Mg4k6IWijF2q"
      },
      "execution_count": null,
      "outputs": []
    },
    {
      "cell_type": "code",
      "source": [
        "def power_of_2(exponent):\n",
        "  for i in range(exponent + 1):\n",
        "    yield 2 ** i\n",
        "\n",
        "exp = int(input(\"Enter an exponent: \"))\n",
        "for num in power_of_2(exp):\n",
        " print (num, end= \" \")"
      ],
      "metadata": {
        "colab": {
          "base_uri": "https://localhost:8080/"
        },
        "id": "HqGq-zPNkLa_",
        "outputId": "6e99bd3f-6e62-45a7-d0e7-45f6a6aea74f"
      },
      "execution_count": null,
      "outputs": [
        {
          "output_type": "stream",
          "name": "stdout",
          "text": [
            "Enter an exponent: 5\n",
            "1 2 4 8 16 32 "
          ]
        }
      ]
    },
    {
      "cell_type": "code",
      "source": [
        "#7) Implement a generator function that reads a file line by line and yields each line as a string."
      ],
      "metadata": {
        "id": "YwWFlfEokzL3"
      },
      "execution_count": null,
      "outputs": []
    },
    {
      "cell_type": "code",
      "source": [
        "import os\n",
        "\n",
        "filename = \"sample.txt\"\n",
        "\n",
        "if not os.path.exists(filename):  # Check if file exists\n",
        "    with open(filename, \"w\") as file:\n",
        "        file.write(\"Hello, this is line 1.\\n\")\n",
        "        file.write(\"Welcome to file handling in Python.\\n\")\n",
        "        file.write(\"This is the last line.\\n\")\n",
        "\n",
        "def file_reader(filename):\n",
        "  file = open(filename, \"r\")\n",
        "  for line in file:\n",
        "    yield line\n",
        "  file.close()\n",
        "\n",
        "for line in file_reader(\"sample.txt\"):\n",
        "  print (line, end =\" \")"
      ],
      "metadata": {
        "colab": {
          "base_uri": "https://localhost:8080/"
        },
        "id": "VmFpFssfpAXc",
        "outputId": "76d25ae1-5866-4236-ccd2-2c51496b450c"
      },
      "execution_count": null,
      "outputs": [
        {
          "output_type": "stream",
          "name": "stdout",
          "text": [
            "Hello, this is line 1.\n",
            " Welcome to file handling in Python.\n",
            " This is the last line.\n",
            " "
          ]
        }
      ]
    },
    {
      "cell_type": "code",
      "source": [
        "#8) Use a lambda function in Python to sort a list of tuples based on the second element of each tuple."
      ],
      "metadata": {
        "id": "swxGN-Xlp0vZ"
      },
      "execution_count": null,
      "outputs": []
    },
    {
      "cell_type": "code",
      "source": [
        "l = [(\"Mansi\", 65), (\"Shashwat\", 12), (\"Vansh\", 3)]\n",
        "sorted_l = sorted(l, key=lambda x: x[1])\n",
        "print(sorted_l)"
      ],
      "metadata": {
        "colab": {
          "base_uri": "https://localhost:8080/"
        },
        "id": "RIfAv7QMrbVk",
        "outputId": "17f68d02-2c75-4dfc-f65f-60596e0cb86c"
      },
      "execution_count": null,
      "outputs": [
        {
          "output_type": "stream",
          "name": "stdout",
          "text": [
            "[('Vansh', 3), ('Shashwat', 12), ('Mansi', 65)]\n"
          ]
        }
      ]
    },
    {
      "cell_type": "code",
      "source": [
        "#9) Write a Python program that uses `map()` to convert a list of temperatures from Celsius to Fahrenheit."
      ],
      "metadata": {
        "id": "iK7gnaGQsfKI"
      },
      "execution_count": null,
      "outputs": []
    },
    {
      "cell_type": "code",
      "source": [
        "Celsius_list = [26, 75, 40]\n",
        "Fahrenheit_list = list(map(lambda x: (x * 9/5) + 32, Celsius_list))\n",
        "print(Fahrenheit_list)"
      ],
      "metadata": {
        "colab": {
          "base_uri": "https://localhost:8080/"
        },
        "id": "fkvgGDv-swXR",
        "outputId": "1b738e53-886b-4447-a06a-1a041d89717f"
      },
      "execution_count": null,
      "outputs": [
        {
          "output_type": "stream",
          "name": "stdout",
          "text": [
            "[78.8, 167.0, 104.0]\n"
          ]
        }
      ]
    },
    {
      "cell_type": "code",
      "source": [
        "#10) Create a Python program that uses `filter()` to remove all the vowels from a given string."
      ],
      "metadata": {
        "id": "mXaAVlcOuDO8"
      },
      "execution_count": null,
      "outputs": []
    },
    {
      "cell_type": "code",
      "source": [
        "s = \"Hello WOrld\"\n",
        "s = \"\".join(filter(lambda x: x.lower() not in \"aeiou\", s))\n",
        "print(s)"
      ],
      "metadata": {
        "colab": {
          "base_uri": "https://localhost:8080/"
        },
        "id": "exU8AqLauLSr",
        "outputId": "4faa4041-2a99-43df-bfc1-36a846512daf"
      },
      "execution_count": null,
      "outputs": [
        {
          "output_type": "stream",
          "name": "stdout",
          "text": [
            "Hll Wrld\n"
          ]
        }
      ]
    },
    {
      "cell_type": "code",
      "source": [
        "#11) Imagine an accounting routine used in a book shop. It works on a list with sublists, which look like this:\n",
        "#Write a Python program, which returns a list with 2-tuples. Each tuple consists of the order number and the product of the price per item and the quantity.\n",
        "#The product should be increased by 10,- € if the value of the order is smaller than 100,00 €. Write a Python program using lambda and map."
      ],
      "metadata": {
        "id": "_o6dovrDu1WE"
      },
      "execution_count": null,
      "outputs": []
    },
    {
      "cell_type": "code",
      "source": [
        "orders = [\n",
        "    [34587, \"Learning Python, Mark Lutz\", 4, 40.95],\n",
        "    [98762, \"Programming Python, Mark Lutz\", 5, 56.80],\n",
        "    [77226, \"Head First Python, Paul Barry\", 3, 32.95],\n",
        "    [88112, \"Einführung in Python3, Bernd Klein\", 3, 24.99]\n",
        "]\n",
        "\n",
        "processed_orders = list(map(lambda x: (x[0], x[3] * (x[2] * x[3]) + (10 if x[0] < 100 else 0)), orders))\n",
        "print(processed_orders)"
      ],
      "metadata": {
        "colab": {
          "base_uri": "https://localhost:8080/"
        },
        "id": "ZqNKlcWGRQQD",
        "outputId": "549d94b1-22bc-4616-9dae-f82f95ace2fe"
      },
      "execution_count": 3,
      "outputs": [
        {
          "output_type": "stream",
          "name": "stdout",
          "text": [
            "[(34587, 6707.610000000001), (98762, 16131.199999999999), (77226, 3257.1075000000005), (88112, 1873.5003)]\n"
          ]
        }
      ]
    }
  ]
}